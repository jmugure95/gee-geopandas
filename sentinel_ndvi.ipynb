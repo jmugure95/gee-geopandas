{
 "cells": [
  {
   "cell_type": "code",
   "execution_count": 104,
   "id": "3564895e",
   "metadata": {},
   "outputs": [],
   "source": [
    "import ee\n",
    "import geemap"
   ]
  },
  {
   "cell_type": "code",
   "execution_count": 105,
   "id": "79a84ab5",
   "metadata": {},
   "outputs": [],
   "source": [
    "ee.Initialize()"
   ]
  },
  {
   "cell_type": "code",
   "execution_count": 169,
   "id": "bf609865",
   "metadata": {},
   "outputs": [],
   "source": [
    "def calculateNDVI(image):\n",
    "    new_bands = [\"B8\",\"B4\"]\n",
    "    result = image.normalizedDifference([\"B8\",\"B4\"])\n",
    "    return image.addBands(result)\n",
    "\n",
    "geometry = ee.Geometry.Polygon([[\n",
    "   [33.58, 5.54], [ 33.90,-0.94], [ 39.22,-4.72],[41.60,-1.61], [ 41.90,4.00], [36.18,5.77],[33.54,5.54]\n",
    "]])\n",
    "\n",
    "def clipcol(image):\n",
    "    clipimage = image.clip(geometry)\n",
    "    return clipimage\n",
    "      \n",
    "collection = ee.ImageCollection('COPERNICUS/S2_SR_HARMONIZED') \\\n",
    "    .filterDate('2022-04-01','2022-10-01') \\\n",
    "    .filterBounds(geometry) \\\n",
    "    .sort(\"CLOUD_COVERAGE_ASSESSMENT\")\n",
    "#     .map(clipcol) \\\n",
    "\n",
    "sentinel1 = collection.median()\n",
    "\n",
    "#     .filter(ee.Filter.lt('', 10)) \n",
    "\n",
    "# ee.Image(data1.filterDate(\"2022-01-01\",\"2022-10-01\").sort(\"CLOUD_COVERAGE_ASSESSMENT\").first())\n",
    "#     .filter(ee.Filter.lt('CLOUDY_PIXEL_PERCENTAGE', 10)) \n",
    "\n",
    "# https://gis.stackexchange.com/questions/414431/filtering-sentinel2-image-collection-by-cloud-coverage-over-specific-polygon"
   ]
  },
  {
   "cell_type": "code",
   "execution_count": 172,
   "id": "2574c1b7",
   "metadata": {},
   "outputs": [],
   "source": [
    "# Select the red, green and blue bands.\n",
    "image = sentinel1.select('B8','B4', 'B3', 'B2')\n",
    "\n",
    "Map56 = geemap.Map()\n",
    "Map56.addLayer(image, {'min':100,'max':3000},\"yoooh\")\n",
    "# Map56.addLayer(image2)"
   ]
  },
  {
   "cell_type": "code",
   "execution_count": 173,
   "id": "52b1458b",
   "metadata": {},
   "outputs": [
    {
     "data": {
      "application/vnd.jupyter.widget-view+json": {
       "model_id": "4bdffb0eba07400caefb548e11eacfe7",
       "version_major": 2,
       "version_minor": 0
      },
      "text/plain": [
       "Map(center=[20, 0], controls=(WidgetControl(options=['position', 'transparent_bg'], widget=HBox(children=(Togg…"
      ]
     },
     "execution_count": 173,
     "metadata": {},
     "output_type": "execute_result"
    }
   ],
   "source": [
    "Map56\n",
    "# check this: https://gis.stackexchange.com/questions/365799/converting-to-feature-to-geometry-for-filterbounds-using-google-earth-engine-ja"
   ]
  },
  {
   "cell_type": "code",
   "execution_count": 174,
   "id": "f8a4fbd1",
   "metadata": {},
   "outputs": [],
   "source": [
    "ndvi5 = sentinel1.normalizedDifference([\"B8\",\"B4\"])"
   ]
  },
  {
   "cell_type": "code",
   "execution_count": null,
   "id": "7bd83f9f",
   "metadata": {},
   "outputs": [],
   "source": []
  },
  {
   "cell_type": "code",
   "execution_count": 175,
   "id": "7111b779",
   "metadata": {},
   "outputs": [],
   "source": [
    "# ndvi = sentinel1.map(calculateNDVI)\n",
    "# ndvi = calculateNDVI(sentinel)\n"
   ]
  },
  {
   "cell_type": "code",
   "execution_count": 156,
   "id": "dc479ad1",
   "metadata": {},
   "outputs": [],
   "source": [
    "# maxNDVI = ndvi.max()\n",
    "# geemap.ee_export_image(maxNDVI, \n",
    "#                        filename= maxNDVI.tif,\n",
    "#                        scale = 10, region = geometry, file_per_band=False,crs = 'EPSG:4036')\n",
    "# #                        crs = 'EPSG:3035')"
   ]
  },
  {
   "cell_type": "code",
   "execution_count": 176,
   "id": "2a4ea131",
   "metadata": {},
   "outputs": [],
   "source": [
    "display={\n",
    "    \"min\":0,\n",
    "    \"max\":1,\n",
    "#     \"bands\":['B8','B4'],\n",
    "    \"palette\":['blue','yellow','green','darkgreen','black'],\n",
    "    \"opacity\": 0.8\n",
    "}\n",
    "\n",
    "Map89 = geemap.Map()\n",
    "Map89.addLayer(ndvi5, display, \"NDVI\")\n",
    "# Map3.addLayer(ndvi, {'min': 1000, 'max': 3000}, \"NDVI\")\n",
    "# https://gis.stackexchange.com/questions/414622/export-classified-image-from-google-earth-engine-as-tif"
   ]
  },
  {
   "cell_type": "code",
   "execution_count": 177,
   "id": "2c967c5a",
   "metadata": {},
   "outputs": [
    {
     "data": {
      "application/vnd.jupyter.widget-view+json": {
       "model_id": "aea02764565c4115a0f5a8fd6f2f742c",
       "version_major": 2,
       "version_minor": 0
      },
      "text/plain": [
       "Map(center=[20, 0], controls=(WidgetControl(options=['position', 'transparent_bg'], widget=HBox(children=(Togg…"
      ]
     },
     "execution_count": 177,
     "metadata": {},
     "output_type": "execute_result"
    }
   ],
   "source": [
    "Map89"
   ]
  },
  {
   "cell_type": "code",
   "execution_count": null,
   "id": "72cbb960",
   "metadata": {},
   "outputs": [],
   "source": []
  },
  {
   "cell_type": "code",
   "execution_count": null,
   "id": "0ccd28f0",
   "metadata": {},
   "outputs": [],
   "source": []
  }
 ],
 "metadata": {
  "kernelspec": {
   "display_name": "Python 3 (ipykernel)",
   "language": "python",
   "name": "python3"
  },
  "language_info": {
   "codemirror_mode": {
    "name": "ipython",
    "version": 3
   },
   "file_extension": ".py",
   "mimetype": "text/x-python",
   "name": "python",
   "nbconvert_exporter": "python",
   "pygments_lexer": "ipython3",
   "version": "3.8.15"
  }
 },
 "nbformat": 4,
 "nbformat_minor": 5
}
