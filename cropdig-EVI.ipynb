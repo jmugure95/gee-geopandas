{
 "cells": [
  {
   "cell_type": "code",
   "execution_count": 1,
   "id": "80928d9e",
   "metadata": {},
   "outputs": [],
   "source": [
    "import ee\n",
    "import geemap"
   ]
  },
  {
   "cell_type": "code",
   "execution_count": 2,
   "id": "70f17da0",
   "metadata": {},
   "outputs": [],
   "source": [
    "ee.Initialize()"
   ]
  },
  {
   "cell_type": "code",
   "execution_count": 3,
   "id": "7212d714",
   "metadata": {},
   "outputs": [],
   "source": [
    "geometry = ee.Geometry.Polygon([[\n",
    "   [33.58, 5.54], [ 33.90,-0.94], [ 39.22,-4.72],[41.60,-1.61], [ 41.90,4.00], [36.18,5.77],[33.54,5.54]\n",
    "]])\n",
    "#    [33.58, 5.54], [ 33.90,-0.94], [ 39.22,-4.72],[41.60,-1.61], [ 41.90,4.00], [36.18,5.77],[33.54,5.54]\n"
   ]
  },
  {
   "cell_type": "code",
   "execution_count": 4,
   "id": "b9765b42",
   "metadata": {},
   "outputs": [],
   "source": [
    "aoi = ee.FeatureCollection('USDOS/LSIB_SIMPLE/2017').filter(ee.Filter.eq('country_na','Kenya')).geometry()"
   ]
  },
  {
   "cell_type": "code",
   "execution_count": 5,
   "id": "dacd10c5",
   "metadata": {},
   "outputs": [],
   "source": [
    "def maskS2clouds(image):\n",
    "    qa = image.select('QA60')\n",
    "    cloudBitMask = 1 << 10 #bitwise left shift\n",
    "    cirrusBitMask = 1 << 11 \n",
    "    mask = qa.bitwiseAnd(cloudBitMask).eq(0).And(qa.bitwiseAnd(cirrusBitMask).eq(0))\n",
    "    return image.updateMask(mask).divide(10000).copyProperties(image)"
   ]
  },
  {
   "cell_type": "code",
   "execution_count": 6,
   "id": "7eb3c902",
   "metadata": {},
   "outputs": [],
   "source": [
    "def getEVI(image):\n",
    "    EVI = image.expression(\n",
    "        '2.5 * ((NIR-RED) / (NIR + 6 * RED - 7.5 * BLUE + 1))', {\n",
    "            'NIR' : image.select('B8').divide(10000),\n",
    "            'RED' : image.select('B4').divide(10000),\n",
    "            'BLUE' : image.select('B2').divide(10000),\n",
    "        }).rename(\"EVI\")\n",
    "    image = image.addBands(EVI)\n",
    "    return(image)"
   ]
  },
  {
   "cell_type": "code",
   "execution_count": 7,
   "id": "4575303c",
   "metadata": {},
   "outputs": [],
   "source": [
    "def addDate(image):\n",
    "    img_date = ee.Date(image.date())\n",
    "    img_date = ee.Number.parse(img_date.format('YYYYMMdd'))\n",
    "    return image.addBands(ee.Image(img_date).rename('date').toInt())"
   ]
  },
  {
   "cell_type": "code",
   "execution_count": null,
   "id": "5fd167bf",
   "metadata": {},
   "outputs": [],
   "source": []
  },
  {
   "cell_type": "code",
   "execution_count": 9,
   "id": "fbdee424",
   "metadata": {},
   "outputs": [],
   "source": [
    "sentinel_data = ee.ImageCollection('COPERNICUS/S2_SR_HARMONIZED')\\\n",
    "    .filterBounds(aoi) \\\n",
    "    .filterDate('2022-05-01','2022-10-30') \\\n",
    "    .map(getEVI).map(addDate).median()\n",
    "#     .map(maskS2clouds) "
   ]
  },
  {
   "cell_type": "code",
   "execution_count": 10,
   "id": "f2699c4e",
   "metadata": {},
   "outputs": [],
   "source": [
    "map1 = geemap.Map()"
   ]
  },
  {
   "cell_type": "code",
   "execution_count": 12,
   "id": "0188ad6d",
   "metadata": {
    "scrolled": true
   },
   "outputs": [
    {
     "data": {
      "application/vnd.jupyter.widget-view+json": {
       "model_id": "003bf3922a43423baa5398451512179e",
       "version_major": 2,
       "version_minor": 0
      },
      "text/plain": [
       "Map(bottom=8524.0, center=[0.5578063517900957, 37.84559934447033], controls=(WidgetControl(options=['position'…"
      ]
     },
     "execution_count": 12,
     "metadata": {},
     "output_type": "execute_result"
    }
   ],
   "source": [
    "palette = [\n",
    "    'blue', 'CE7E45', 'DF923D', 'F1B555', 'FCD163', '99B718',\n",
    "    '74A901', '66A000', '529400', '3E8601', '207401', '056201',\n",
    "    '004C00', '023B01', '012E01', '011D01', '011301']\n",
    "# palette=['006633', 'E5FFCC', '662A00', 'D8D8D8', 'F5F5F5']\n",
    "pall = {\"min\":0, \"max\":1, 'palette':palette}\n",
    "map1.centerObject(aoi, 6)\n",
    "# map1.addLayer(sentinel_data.select('EVI'), pall, \"EVI\")\n",
    "map1.addLayer(sentinel_data.clip(aoi).select('EVI'),pall,\"yooh1\")\n",
    "map1.addLayerControl()\n",
    "map1"
   ]
  },
  {
   "cell_type": "code",
   "execution_count": 13,
   "id": "84ced9f5",
   "metadata": {},
   "outputs": [],
   "source": [
    "sentinel_img = ee.ImageCollection('COPERNICUS/S2_SR_HARMONIZED')\\\n",
    "    .filterBounds(aoi) \\\n",
    "    .filterDate('2022-05-01','2022-10-30')\n",
    "image = sentinel_img.select('B4', 'B3', 'B2')\n"
   ]
  },
  {
   "cell_type": "code",
   "execution_count": 14,
   "id": "a927ded0",
   "metadata": {},
   "outputs": [
    {
     "data": {
      "application/vnd.jupyter.widget-view+json": {
       "model_id": "62da3c7a18dc45aa8b8e54a571f9d9dd",
       "version_major": 2,
       "version_minor": 0
      },
      "text/plain": [
       "Map(center=[20, 0], controls=(WidgetControl(options=['position', 'transparent_bg'], widget=HBox(children=(Togg…"
      ]
     },
     "execution_count": 14,
     "metadata": {},
     "output_type": "execute_result"
    }
   ],
   "source": [
    "map2 = geemap.Map()\n",
    "map2.addLayer(image,{'min':100,'max':3000},\"yoh\")\n",
    "map2"
   ]
  },
  {
   "cell_type": "code",
   "execution_count": null,
   "id": "0598e1e7",
   "metadata": {},
   "outputs": [],
   "source": []
  },
  {
   "cell_type": "code",
   "execution_count": null,
   "id": "1bed421b",
   "metadata": {},
   "outputs": [],
   "source": []
  },
  {
   "cell_type": "code",
   "execution_count": 15,
   "id": "c5827b05",
   "metadata": {},
   "outputs": [],
   "source": [
    "# works"
   ]
  },
  {
   "cell_type": "code",
   "execution_count": 16,
   "id": "d84b004b",
   "metadata": {},
   "outputs": [],
   "source": [
    "def maskS2clouds(image):\n",
    "    qa = image.select('QA60')\n",
    "    cloudBitMask = 1 << 10 #bitwise left shift\n",
    "    cirrusBitMask = 1 << 11 \n",
    "    mask = qa.bitwiseAnd(cloudBitMask).eq(0).And(qa.bitwiseAnd(cirrusBitMask).eq(0))\n",
    "    return image.updateMask(mask).divide(10000)"
   ]
  },
  {
   "cell_type": "code",
   "execution_count": 17,
   "id": "194ff136",
   "metadata": {},
   "outputs": [],
   "source": [
    "sentinel_img1 = ee.ImageCollection('COPERNICUS/S2_SR_HARMONIZED')\\\n",
    "    .filterBounds(aoi) \\\n",
    "    .filterDate('2022-05-01','2022-10-30').filter(ee.Filter.lt('CLOUDY_PIXEL_PERCENTAGE', 15)) \\\n",
    "    .map(maskS2clouds).median()\n",
    "\n",
    "\n",
    "# image = sentinel_img1.select('B4', 'B3', 'B2')\n"
   ]
  },
  {
   "cell_type": "code",
   "execution_count": 18,
   "id": "b6dbfba4",
   "metadata": {},
   "outputs": [
    {
     "data": {
      "application/vnd.jupyter.widget-view+json": {
       "model_id": "a7458e2f80f846e193d08736c0272c94",
       "version_major": 2,
       "version_minor": 0
      },
      "text/plain": [
       "Map(center=[20, 0], controls=(WidgetControl(options=['position', 'transparent_bg'], widget=HBox(children=(Togg…"
      ]
     },
     "execution_count": 18,
     "metadata": {},
     "output_type": "execute_result"
    }
   ],
   "source": [
    "map3 = geemap.Map()\n",
    "map3.addLayer(sentinel_img1,{'bands': ['B4', 'B3', 'B2'], 'min': 0, 'max': 0.3},'fcc')\n",
    "map3"
   ]
  },
  {
   "cell_type": "code",
   "execution_count": 19,
   "id": "98bd785f",
   "metadata": {},
   "outputs": [],
   "source": [
    "# works"
   ]
  },
  {
   "cell_type": "code",
   "execution_count": null,
   "id": "fd697660",
   "metadata": {},
   "outputs": [],
   "source": []
  },
  {
   "cell_type": "code",
   "execution_count": null,
   "id": "527ca083",
   "metadata": {},
   "outputs": [],
   "source": []
  },
  {
   "cell_type": "code",
   "execution_count": null,
   "id": "a2f94e2e",
   "metadata": {},
   "outputs": [],
   "source": []
  },
  {
   "cell_type": "code",
   "execution_count": 20,
   "id": "5bed88d2",
   "metadata": {},
   "outputs": [],
   "source": [
    "def maskS2clouds(image):\n",
    "    qa = image.select('QA60')\n",
    "    cloudBitMask = ee.Number(2).pow(10).int()\n",
    "    cirrusBitMask = ee.Number(2).pow(11).int()\n",
    "    mask = qa.bitwiseAnd(cloudBitMask).eq(0).And(qa.bitwiseAnd(cirrusBitMask).eq(0))\n",
    "    return image.updateMask(mask).divide(10000)"
   ]
  },
  {
   "cell_type": "code",
   "execution_count": 21,
   "id": "07723a6f",
   "metadata": {},
   "outputs": [],
   "source": [
    "sentinel_img2 = ee.ImageCollection('COPERNICUS/S2_SR_HARMONIZED')\\\n",
    "    .filterBounds(aoi) \\\n",
    "    .filterDate('2022-05-01','2022-10-30') \\\n",
    "    .filter(ee.Filter.lt('CLOUDY_PIXEL_PERCENTAGE', 34)).median()\n",
    "\n",
    "image2 = sentinel_img2.select('B4', 'B3', 'B2')"
   ]
  },
  {
   "cell_type": "code",
   "execution_count": 22,
   "id": "514f8bdc",
   "metadata": {
    "scrolled": true
   },
   "outputs": [
    {
     "data": {
      "application/vnd.jupyter.widget-view+json": {
       "model_id": "d0a4b2c6c2444fb594a7ef5fefd997ce",
       "version_major": 2,
       "version_minor": 0
      },
      "text/plain": [
       "Map(center=[20, 0], controls=(WidgetControl(options=['position', 'transparent_bg'], widget=HBox(children=(Togg…"
      ]
     },
     "execution_count": 22,
     "metadata": {},
     "output_type": "execute_result"
    }
   ],
   "source": [
    "map4 = geemap.Map()\n",
    "map4.addLayer(image2.clip(aoi),{'min':100,'max':3000},\"yoh\")\n",
    "map4"
   ]
  },
  {
   "cell_type": "code",
   "execution_count": 23,
   "id": "0b7734ea",
   "metadata": {},
   "outputs": [],
   "source": [
    "# https://gis.stackexchange.com/questions/333883/removing-clouds-from-sentinel-2-surface-reflectance-in-google-earth-engine"
   ]
  },
  {
   "cell_type": "code",
   "execution_count": 24,
   "id": "62ea811c",
   "metadata": {},
   "outputs": [],
   "source": [
    "# https://gis.stackexchange.com/questions/426571/cloud-shadow-removal-for-sentinel-2"
   ]
  },
  {
   "cell_type": "code",
   "execution_count": 25,
   "id": "6b3d8f9c",
   "metadata": {},
   "outputs": [],
   "source": [
    "# # Generate 'clear_sky' Sentinel-2 images using SCL.\n",
    "# def s2_clear_sky(image):\n",
    "#     scl = image.select('SCL')\n",
    "#     clear_sky_pixels = scl.eq(4).Or(scl.eq(5)).Or(scl.eq(6)).Or(scl.eq(11))\n",
    "#     return image.updateMask(clear_sky_pixels)\n",
    "\n",
    "# # Map 's2_clear_sky' function over the imageCollection.\n",
    "# s2_data = sentinel_img2.map(s2_clear_sky);bbb"
   ]
  },
  {
   "cell_type": "code",
   "execution_count": 40,
   "id": "cec3dc90",
   "metadata": {},
   "outputs": [],
   "source": [
    "sentinel_img5 = ee.ImageCollection('COPERNICUS/S2_SR_HARMONIZED')\\\n",
    "    .filterBounds(aoi) \\\n",
    "    .filterDate(\"2022-01-01\",\"2022-10-01\") \\\n",
    "    .filter(ee.Filter.lt('CLOUDY_PIXEL_PERCENTAGE', 34)) \\\n",
    "    .map(getEVI).map(addDate).median()\n",
    "\n",
    "# .filterDate('2022-05-01','2022-10-30') \\"
   ]
  },
  {
   "cell_type": "code",
   "execution_count": 41,
   "id": "9315a422",
   "metadata": {},
   "outputs": [
    {
     "data": {
      "application/vnd.jupyter.widget-view+json": {
       "model_id": "7812c5113f1045e59d5095950489a320",
       "version_major": 2,
       "version_minor": 0
      },
      "text/plain": [
       "Map(center=[0.5578063517900957, 37.84559934447033], controls=(WidgetControl(options=['position', 'transparent_…"
      ]
     },
     "execution_count": 41,
     "metadata": {},
     "output_type": "execute_result"
    }
   ],
   "source": [
    "palette = [\n",
    "    'blue', 'CE7E45', 'DF923D', 'F1B555', 'FCD163', '99B718',\n",
    "    '74A901', '66A000', '529400', '3E8601', '207401', '056201',\n",
    "    '004C00', '023B01', '012E01', '011D01', '011301']\n",
    "# palette=['006633', 'E5FFCC', '662A00', 'D8D8D8', 'F5F5F5']\n",
    "pall = {\"min\":0, \"max\":1, 'palette':palette}\n",
    "\n",
    "map5 = geemap.Map()\n",
    "map5.centerObject(aoi, 6)\n",
    "# map1.addLayer(sentinel_data.select('EVI'), pall, \"EVI\")\n",
    "map5.addLayer(sentinel_img5.clip(aoi).select('EVI'),pall,\"yooh1\")\n",
    "map5"
   ]
  },
  {
   "cell_type": "code",
   "execution_count": null,
   "id": "03f31cd1",
   "metadata": {},
   "outputs": [],
   "source": []
  },
  {
   "cell_type": "code",
   "execution_count": null,
   "id": "761b590d",
   "metadata": {},
   "outputs": [],
   "source": []
  },
  {
   "cell_type": "code",
   "execution_count": 42,
   "id": "25259214",
   "metadata": {},
   "outputs": [],
   "source": [
    "point = ee.Geometry.Point(37.9,-1.4)"
   ]
  },
  {
   "cell_type": "code",
   "execution_count": 43,
   "id": "2e67f329",
   "metadata": {},
   "outputs": [],
   "source": [
    "sentinel_img8 = ee.ImageCollection('COPERNICUS/S2_SR_HARMONIZED')\\\n",
    "    .filterBounds(point) \\\n",
    "    .filterDate(\"2022-01-01\",\"2022-10-01\") \\\n",
    "    .filter(ee.Filter.lt('CLOUDY_PIXEL_PERCENTAGE', 34)) \\\n",
    "    .map(getEVI).map(addDate).median()\n",
    "\n",
    "# .filterDate('2022-05-01','2022-10-30') \\"
   ]
  },
  {
   "cell_type": "code",
   "execution_count": 44,
   "id": "bef9ffac",
   "metadata": {},
   "outputs": [
    {
     "data": {
      "application/vnd.jupyter.widget-view+json": {
       "model_id": "8b274d3356774886b9e8a95a73244019",
       "version_major": 2,
       "version_minor": 0
      },
      "text/plain": [
       "Map(center=[-1.4, 37.89999999999999], controls=(WidgetControl(options=['position', 'transparent_bg'], widget=H…"
      ]
     },
     "execution_count": 44,
     "metadata": {},
     "output_type": "execute_result"
    }
   ],
   "source": [
    "palette = [\n",
    "    'blue', 'CE7E45', 'DF923D', 'F1B555', 'FCD163', '99B718',\n",
    "    '74A901', '66A000', '529400', '3E8601', '207401', '056201',\n",
    "    '004C00', '023B01', '012E01', '011D01', '011301']\n",
    "# palette=['006633', 'E5FFCC', '662A00', 'D8D8D8', 'F5F5F5']\n",
    "pall = {\"min\":0, \"max\":1, 'palette':palette}\n",
    "\n",
    "map8 = geemap.Map()\n",
    "map8.centerObject(point, 7)\n",
    "# map1.addLayer(sentinel_data.select('EVI'), pall, \"EVI\")\n",
    "map8.addLayer(sentinel_img8.select('EVI'),pall,\"yooh1\")\n",
    "map8.addLayer(sentinel_img5.clip(aoi).select('EVI'),pall,\"yooh2\")\n",
    "map8"
   ]
  },
  {
   "cell_type": "code",
   "execution_count": null,
   "id": "d1f3954e",
   "metadata": {},
   "outputs": [],
   "source": []
  },
  {
   "cell_type": "code",
   "execution_count": null,
   "id": "c30a65b1",
   "metadata": {},
   "outputs": [],
   "source": []
  },
  {
   "cell_type": "code",
   "execution_count": null,
   "id": "c36fa111",
   "metadata": {},
   "outputs": [],
   "source": []
  },
  {
   "cell_type": "code",
   "execution_count": null,
   "id": "0bb95eb7",
   "metadata": {},
   "outputs": [],
   "source": []
  },
  {
   "cell_type": "code",
   "execution_count": null,
   "id": "137097f1",
   "metadata": {},
   "outputs": [],
   "source": []
  },
  {
   "cell_type": "code",
   "execution_count": null,
   "id": "40e2a800",
   "metadata": {},
   "outputs": [],
   "source": []
  },
  {
   "cell_type": "code",
   "execution_count": 35,
   "id": "13e8533a",
   "metadata": {},
   "outputs": [],
   "source": [
    "export_collection = collection.select(['EVI']).toBands()"
   ]
  },
  {
   "cell_type": "code",
   "execution_count": 36,
   "id": "368a7f45",
   "metadata": {},
   "outputs": [
    {
     "data": {
      "text/plain": [
       "<ee.image.Image at 0x7f6217994640>"
      ]
     },
     "execution_count": 36,
     "metadata": {},
     "output_type": "execute_result"
    }
   ],
   "source": [
    "export_collection"
   ]
  },
  {
   "cell_type": "code",
   "execution_count": 58,
   "id": "290e8b4b",
   "metadata": {},
   "outputs": [],
   "source": [
    "task_config = {\n",
    "    'scale': 30,  \n",
    "#     'region': geometry\n",
    "    }\n",
    "\n",
    "task = ee.batch.Export.image(export_collection, 'evi_evi', task_config)\n",
    "\n",
    "#         'folder': 'Kitui',\n",
    "#         'maxPixels': 1e13,\n",
    "#         'region': geometry,\n",
    "#         'fileformat':'GeoTIFF',\n",
    "#         'scale': 30\n",
    "#     }\n",
    "# )"
   ]
  },
  {
   "cell_type": "code",
   "execution_count": 59,
   "id": "ab3c2c0c",
   "metadata": {},
   "outputs": [],
   "source": [
    "task.start()"
   ]
  },
  {
   "cell_type": "code",
   "execution_count": null,
   "id": "a8901761",
   "metadata": {},
   "outputs": [],
   "source": []
  },
  {
   "cell_type": "code",
   "execution_count": null,
   "id": "059b446a",
   "metadata": {},
   "outputs": [],
   "source": [
    "collection = ee.ImageCollection('COPERNICUS/S2_SR')\n",
    "    .filterBounds(geometry)\n",
    "    .filterDate('2020-07-01','2020-07-29')"
   ]
  },
  {
   "cell_type": "code",
   "execution_count": null,
   "id": "ca4d4495",
   "metadata": {},
   "outputs": [],
   "source": []
  },
  {
   "cell_type": "code",
   "execution_count": null,
   "id": "9699a3b4",
   "metadata": {},
   "outputs": [],
   "source": []
  },
  {
   "cell_type": "code",
   "execution_count": null,
   "id": "7b3508cf",
   "metadata": {},
   "outputs": [],
   "source": []
  },
  {
   "cell_type": "code",
   "execution_count": null,
   "id": "473450c3",
   "metadata": {},
   "outputs": [],
   "source": []
  },
  {
   "cell_type": "code",
   "execution_count": null,
   "id": "25e170db",
   "metadata": {},
   "outputs": [],
   "source": []
  },
  {
   "cell_type": "code",
   "execution_count": null,
   "id": "0264e074",
   "metadata": {},
   "outputs": [],
   "source": []
  }
 ],
 "metadata": {
  "kernelspec": {
   "display_name": "Python 3 (ipykernel)",
   "language": "python",
   "name": "python3"
  },
  "language_info": {
   "codemirror_mode": {
    "name": "ipython",
    "version": 3
   },
   "file_extension": ".py",
   "mimetype": "text/x-python",
   "name": "python",
   "nbconvert_exporter": "python",
   "pygments_lexer": "ipython3",
   "version": "3.8.15"
  }
 },
 "nbformat": 4,
 "nbformat_minor": 5
}
