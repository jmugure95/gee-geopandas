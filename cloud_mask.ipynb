{
 "cells": [
  {
   "cell_type": "code",
   "execution_count": 1,
   "id": "ca0e1a06",
   "metadata": {},
   "outputs": [],
   "source": [
    "import ee\n",
    "import geemap"
   ]
  },
  {
   "cell_type": "code",
   "execution_count": 4,
   "id": "798a5b79",
   "metadata": {},
   "outputs": [],
   "source": [
    "ee.Initialize()"
   ]
  },
  {
   "cell_type": "code",
   "execution_count": 5,
   "id": "2de6333f",
   "metadata": {},
   "outputs": [],
   "source": [
    "aoi = ee.FeatureCollection('USDOS/LSIB_SIMPLE/2017').filter(ee.Filter.eq('country_na','Kenya')).geometry()"
   ]
  },
  {
   "cell_type": "code",
   "execution_count": 6,
   "id": "3bb6b7ee",
   "metadata": {},
   "outputs": [],
   "source": [
    "def maskS2clouds(image):\n",
    "    qa = image.select('QA60')\n",
    "    cloudBitMask = 1 << 10 #bitwise left shift\n",
    "    cirrusBitMask = 1 << 11 \n",
    "    mask = qa.bitwiseAnd(cloudBitMask).eq(0).And(qa.bitwiseAnd(cirrusBitMask).eq(0))\n",
    "    return image.updateMask(mask).divide(10000).copyProperties(image)"
   ]
  },
  {
   "cell_type": "code",
   "execution_count": 7,
   "id": "3d623406",
   "metadata": {},
   "outputs": [],
   "source": [
    "def getEVI(image):\n",
    "    EVI = image.expression(\n",
    "        '2.5 * ((NIR-RED) / (NIR + 6 * RED - 7.5 * BLUE + 1))', {\n",
    "            'NIR' : image.select('B8').divide(10000),\n",
    "            'RED' : image.select('B4').divide(10000),\n",
    "            'BLUE' : image.select('B2').divide(10000),\n",
    "        }).rename(\"EVI\")\n",
    "    image = image.addBands(EVI)\n",
    "    return(image)"
   ]
  },
  {
   "cell_type": "code",
   "execution_count": 11,
   "id": "80486dd0",
   "metadata": {},
   "outputs": [],
   "source": [
    "def addDate(image):\n",
    "\n",
    "    img_date = ee.Date(image.date())\n",
    "\n",
    "    img_date = ee.Number.parse(img_date.format('YYYYMMdd'))\n",
    "\n",
    "    return image.addBands(ee.Image(img_date).rename('date').toInt())"
   ]
  },
  {
   "cell_type": "code",
   "execution_count": 20,
   "id": "8fe1f3f5",
   "metadata": {},
   "outputs": [],
   "source": [
    "sentinel_img2 = ee.ImageCollection('COPERNICUS/S2_SR_HARMONIZED')\\\n",
    "    .filterBounds(aoi) \\\n",
    "    .filterDate('2022-05-01','2022-10-30') \\\n",
    "    .filter(ee.Filter.lt('CLOUDY_PIXEL_PERCENTAGE', 34)).median()\n",
    "\n",
    "image2 = sentinel_img2.select('B4', 'B3', 'B2')"
   ]
  },
  {
   "cell_type": "code",
   "execution_count": null,
   "id": "2c7a73d5",
   "metadata": {},
   "outputs": [],
   "source": []
  },
  {
   "cell_type": "code",
   "execution_count": 21,
   "id": "b94a4da3",
   "metadata": {},
   "outputs": [
    {
     "data": {
      "application/vnd.jupyter.widget-view+json": {
       "model_id": "8ea5243a589a4745a30b5193bc495c29",
       "version_major": 2,
       "version_minor": 0
      },
      "text/plain": [
       "Map(center=[20, 0], controls=(WidgetControl(options=['position', 'transparent_bg'], widget=HBox(children=(Togg…"
      ]
     },
     "execution_count": 21,
     "metadata": {},
     "output_type": "execute_result"
    }
   ],
   "source": [
    "map1 = geemap.Map()\n",
    "map1.addLayer(image2.clip(aoi),{'min':100,'max':3000},\"yoh\")\n",
    "map1"
   ]
  },
  {
   "cell_type": "code",
   "execution_count": null,
   "id": "8cea4027",
   "metadata": {},
   "outputs": [],
   "source": []
  },
  {
   "cell_type": "code",
   "execution_count": 30,
   "id": "be938250",
   "metadata": {},
   "outputs": [],
   "source": [
    "# sentinel_data = ee.ImageCollection('COPERNICUS/S2_SR_HARMONIZED')\\\n",
    "#     .filterBounds(aoi) \\\n",
    "#     .filterDate('2022-05-01','2022-10-30') \\\n",
    "#     .map(getEVI).map(addDate).map(maskS2clouds).median()\n",
    "\n",
    "sentinel_data1 = ee.ImageCollection('COPERNICUS/S2_SR_HARMONIZED')\\\n",
    "    .filterBounds(aoi) \\\n",
    "    .filterDate('2022-05-01','2022-10-30') \\\n",
    "    .filter(ee.Filter.lt('CLOUDY_PIXEL_PERCENTAGE', 34)) \\\n",
    "    .map(getEVI).median()\n"
   ]
  },
  {
   "cell_type": "code",
   "execution_count": 32,
   "id": "c5834ca3",
   "metadata": {},
   "outputs": [
    {
     "data": {
      "application/vnd.jupyter.widget-view+json": {
       "model_id": "8ae7c0df9cc346afb6157a76d4558ada",
       "version_major": 2,
       "version_minor": 0
      },
      "text/plain": [
       "Map(center=[0.5578063517900957, 37.84559934447033], controls=(WidgetControl(options=['position', 'transparent_…"
      ]
     },
     "execution_count": 32,
     "metadata": {},
     "output_type": "execute_result"
    }
   ],
   "source": [
    "palette = [\n",
    "    'blue', 'CE7E45', 'DF923D', 'F1B555', 'FCD163', '99B718',\n",
    "    '74A901', '66A000', '529400', '3E8601', '207401', '056201',\n",
    "    '004C00', '023B01', '012E01', '011D01', '011301']\n",
    "# palette=['006633', 'E5FFCC', '662A00', 'D8D8D8', 'F5F5F5']\n",
    "pall = {\"min\":0, \"max\":1, 'palette':palette}\n",
    "\n",
    "map2 = geemap.Map()\n",
    "map2.centerObject(aoi, 6)\n",
    "map2.addLayer(sentinel_data1.clip(aoi).select('EVI'),pall,\"yooh1\")\n",
    "map2"
   ]
  },
  {
   "cell_type": "code",
   "execution_count": null,
   "id": "a1820219",
   "metadata": {},
   "outputs": [],
   "source": []
  }
 ],
 "metadata": {
  "kernelspec": {
   "display_name": "Python 3 (ipykernel)",
   "language": "python",
   "name": "python3"
  },
  "language_info": {
   "codemirror_mode": {
    "name": "ipython",
    "version": 3
   },
   "file_extension": ".py",
   "mimetype": "text/x-python",
   "name": "python",
   "nbconvert_exporter": "python",
   "pygments_lexer": "ipython3",
   "version": "3.8.15"
  }
 },
 "nbformat": 4,
 "nbformat_minor": 5
}
