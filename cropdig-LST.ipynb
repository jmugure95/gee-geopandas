{
 "cells": [
  {
   "cell_type": "code",
   "execution_count": 1,
   "id": "dfbcce3c",
   "metadata": {},
   "outputs": [],
   "source": [
    "import ee, geemap"
   ]
  },
  {
   "cell_type": "code",
   "execution_count": 3,
   "id": "6abc5dbc",
   "metadata": {},
   "outputs": [],
   "source": [
    "# ee.Initialize()"
   ]
  },
  {
   "cell_type": "code",
   "execution_count": null,
   "id": "126f2bd6",
   "metadata": {},
   "outputs": [],
   "source": [
    "def maskL8sr(col):\n",
    "    shadowsMask = (1 << 3)\n",
    "    cloudMask = (1 <<5)\n",
    "    qa = col.select('pixel_qa')\n",
    "    mask = qa.bitwiseAnd(shadowsMask).eq(0).And(qa.bitwiseAnd(cloudMask).eq(0))\n",
    "    return col.updateMask(mask)\n",
    "    "
   ]
  },
  {
   "cell_type": "code",
   "execution_count": null,
   "id": "5fba6db3",
   "metadata": {},
   "outputs": [],
   "source": [
    "col = ee.ImageCollection('LANDSAT/LC08/C01/T1_SR') \\ \n",
    "    .map(maskL8sr) \\ \n",
    "    .filterDate('2020-04-01','2020-05-01') \\\n",
    "    .filterBounds(geometry)"
   ]
  },
  {
   "cell_type": "code",
   "execution_count": null,
   "id": "d86f84bd",
   "metadata": {},
   "outputs": [],
   "source": [
    "image = col.clip(geometry).median()"
   ]
  },
  {
   "cell_type": "code",
   "execution_count": null,
   "id": "da793258",
   "metadata": {},
   "outputs": [],
   "source": [
    "ndvi = image.normalizedDifference(['B5','B4']).rename('NDVI')"
   ]
  },
  {
   "cell_type": "code",
   "execution_count": null,
   "id": "d46ca9e3",
   "metadata": {},
   "outputs": [],
   "source": [
    "MIN = ee.Number(nvi.reduceRegion({\n",
    "    'reducer': ee.Reducer.min(),\n",
    "    'geometry': geometry,\n",
    "    'scale' 30,\n",
    "    'maxPixels': 1e9\n",
    "}).values().get(0))"
   ]
  },
  {
   "cell_type": "code",
   "execution_count": null,
   "id": "8881f910",
   "metadata": {},
   "outputs": [],
   "source": [
    "PV = (ndvi.subtract(min).divide(max.subtract(min))).pow(ee.Number(2)).rename('FV')"
   ]
  },
  {
   "cell_type": "code",
   "execution_count": null,
   "id": "51abcfdb",
   "metadata": {},
   "outputs": [],
   "source": [
    "a = ee.Number(0.001490162)\n",
    "b = ee.Number(0.984809838)\n",
    "Emisivity = PV.multiply(a).add(b).rename('EM')\n",
    "image = ee.Image(ele)"
   ]
  },
  {
   "cell_type": "code",
   "execution_count": null,
   "id": "bc84ada6",
   "metadata": {},
   "outputs": [],
   "source": [
    "LST = image.expression(\n",
    "    '(Tb/(1+ (0.000115 * (Tb / 1.438)) * log(Ep)))-273.15',{\n",
    "        'Tb':image.select('B10').multiply(0.1),\n",
    "        'Ep':PV.multiply(a).add(b)\n",
    "    }\n",
    ")"
   ]
  },
  {
   "cell_type": "code",
   "execution_count": null,
   "id": "c6c419dd",
   "metadata": {},
   "outputs": [],
   "source": [
    "result = ee.Algorithms.If(min, LST.set('system:time_start',date).float()rename('LST'),0)"
   ]
  },
  {
   "cell_type": "code",
   "execution_count": null,
   "id": "92c20b39",
   "metadata": {},
   "outputs": [],
   "source": [
    "LST_col = ee.ImageCollection(LST_col)"
   ]
  },
  {
   "cell_type": "code",
   "execution_count": null,
   "id": "fbb53fe1",
   "metadata": {},
   "outputs": [],
   "source": [
    "export_collection = LST_col.select(['LST']).toBands()"
   ]
  },
  {
   "cell_type": "code",
   "execution_count": null,
   "id": "28800dcc",
   "metadata": {},
   "outputs": [],
   "source": [
    "ee.Batch.Export.toDrive({\n",
    "    'image': export_collection,\n",
    "    'description': 'LST',\n",
    "    'folder': ' KituiLST',\n",
    "    'maxPixels':1e13,\n",
    "    'region':geometry,\n",
    "    'fileFormat': 'GeoTIFF',\n",
    "    'scale':30\n",
    "})"
   ]
  },
  {
   "cell_type": "code",
   "execution_count": null,
   "id": "103bb28b",
   "metadata": {},
   "outputs": [],
   "source": []
  },
  {
   "cell_type": "code",
   "execution_count": null,
   "id": "ca4ae758",
   "metadata": {},
   "outputs": [],
   "source": []
  },
  {
   "cell_type": "code",
   "execution_count": null,
   "id": "a27115c3",
   "metadata": {},
   "outputs": [],
   "source": []
  }
 ],
 "metadata": {
  "kernelspec": {
   "display_name": "Python 3 (ipykernel)",
   "language": "python",
   "name": "python3"
  },
  "language_info": {
   "codemirror_mode": {
    "name": "ipython",
    "version": 3
   },
   "file_extension": ".py",
   "mimetype": "text/x-python",
   "name": "python",
   "nbconvert_exporter": "python",
   "pygments_lexer": "ipython3",
   "version": "3.8.10"
  }
 },
 "nbformat": 4,
 "nbformat_minor": 5
}
