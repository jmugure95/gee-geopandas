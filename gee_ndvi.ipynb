{
 "cells": [
  {
   "cell_type": "code",
   "execution_count": 7,
   "id": "f05ac672",
   "metadata": {},
   "outputs": [],
   "source": [
    "import ee\n",
    "import geemap\n",
    "import contextily as cx"
   ]
  },
  {
   "cell_type": "code",
   "execution_count": 8,
   "id": "cf06e392",
   "metadata": {},
   "outputs": [],
   "source": [
    "ee.Initialize()"
   ]
  },
  {
   "cell_type": "code",
   "execution_count": 237,
   "id": "9c26aff7",
   "metadata": {},
   "outputs": [],
   "source": [
    "Map1 = geemap.Map()"
   ]
  },
  {
   "cell_type": "code",
   "execution_count": 239,
   "id": "fd79697f",
   "metadata": {},
   "outputs": [
    {
     "data": {
      "application/vnd.jupyter.widget-view+json": {
       "model_id": "4a34b5b13a744bdaae340247971e5a59",
       "version_major": 2,
       "version_minor": 0
      },
      "text/plain": [
       "Map(center=[-1.4, 37.9], controls=(WidgetControl(options=['position', 'transparent_bg'], widget=HBox(children=…"
      ]
     },
     "execution_count": 239,
     "metadata": {},
     "output_type": "execute_result"
    }
   ],
   "source": [
    "Map1.setCenter(37.9,-1.4,8)\n",
    "Map1"
   ]
  },
  {
   "cell_type": "code",
   "execution_count": null,
   "id": "254d62cd",
   "metadata": {},
   "outputs": [],
   "source": []
  },
  {
   "cell_type": "code",
   "execution_count": 5,
   "id": "d978fa6d",
   "metadata": {},
   "outputs": [],
   "source": [
    "countries = ee.FeatureCollection('USDOS/LSIB_SIMPLE/2017')\n",
    "kenya = countries.filter(ee.Filter.eq('country_na','Zambia'))"
   ]
  },
  {
   "cell_type": "code",
   "execution_count": 6,
   "id": "16356180",
   "metadata": {},
   "outputs": [],
   "source": [
    "data = ee.ImageCollection(\"LANDSAT/LC08/C01/T1_TOA\")"
   ]
  },
  {
   "cell_type": "code",
   "execution_count": 7,
   "id": "619dc721",
   "metadata": {},
   "outputs": [],
   "source": [
    "imageBounds = data.filterBounds(kenya)"
   ]
  },
  {
   "cell_type": "code",
   "execution_count": 8,
   "id": "1e0432f2",
   "metadata": {},
   "outputs": [
    {
     "data": {
      "text/plain": [
       "<ee.imagecollection.ImageCollection at 0x7f9a90f813d0>"
      ]
     },
     "execution_count": 8,
     "metadata": {},
     "output_type": "execute_result"
    }
   ],
   "source": [
    "imageBounds"
   ]
  },
  {
   "cell_type": "code",
   "execution_count": 9,
   "id": "da4b5097",
   "metadata": {},
   "outputs": [],
   "source": [
    "finalImages = imageBounds.filterDate(\"2016-01-01\",\"2016-12-31\").sort(\"CLOUD_COVER\")"
   ]
  },
  {
   "cell_type": "code",
   "execution_count": 10,
   "id": "f1b1f368",
   "metadata": {},
   "outputs": [],
   "source": [
    "finall = ee.Image(finalImages.first())"
   ]
  },
  {
   "cell_type": "code",
   "execution_count": 11,
   "id": "46d9875a",
   "metadata": {},
   "outputs": [],
   "source": [
    "# image = ee.Image(data.filterDate(\"2022-01-01\",\"2022-10-01\").sort(\"CLOUD_COVERAGE_ASSESSMENT\").first())"
   ]
  },
  {
   "cell_type": "code",
   "execution_count": 12,
   "id": "5e703ccd",
   "metadata": {},
   "outputs": [],
   "source": [
    "visparams = {\"bands\":['B4','B3','B2'], \"max\":0.3}"
   ]
  },
  {
   "cell_type": "code",
   "execution_count": 13,
   "id": "7252f990",
   "metadata": {},
   "outputs": [],
   "source": [
    "Map1.addLayer(finall ,visparams, 'cloud Free')"
   ]
  },
  {
   "cell_type": "code",
   "execution_count": 14,
   "id": "feb13f0c",
   "metadata": {},
   "outputs": [
    {
     "data": {
      "application/vnd.jupyter.widget-view+json": {
       "model_id": "1ecd33c66bdc4a1cadfcc9a77a19174f",
       "version_major": 2,
       "version_minor": 0
      },
      "text/plain": [
       "Map(bottom=33323.0, center=[-1.4, 37.9], controls=(WidgetControl(options=['position', 'transparent_bg'], widge…"
      ]
     },
     "execution_count": 14,
     "metadata": {},
     "output_type": "execute_result"
    }
   ],
   "source": [
    "Map1"
   ]
  },
  {
   "cell_type": "code",
   "execution_count": null,
   "id": "6f296b3e",
   "metadata": {},
   "outputs": [],
   "source": []
  },
  {
   "cell_type": "code",
   "execution_count": 15,
   "id": "d09fc664",
   "metadata": {},
   "outputs": [],
   "source": [
    "rawImages = data.filterDate(\"2016-01-01\",\"2016-12-31\")"
   ]
  },
  {
   "cell_type": "code",
   "execution_count": 16,
   "id": "d1a2d8f2",
   "metadata": {},
   "outputs": [],
   "source": [
    "Map1.addLayer(rawImages, visparams, 'raw images')"
   ]
  },
  {
   "cell_type": "code",
   "execution_count": 17,
   "id": "8c0d0d18",
   "metadata": {},
   "outputs": [
    {
     "data": {
      "application/vnd.jupyter.widget-view+json": {
       "model_id": "1ecd33c66bdc4a1cadfcc9a77a19174f",
       "version_major": 2,
       "version_minor": 0
      },
      "text/plain": [
       "Map(bottom=137507.0, center=[-8.394941167600685, 32.98164367675782], controls=(WidgetControl(options=['positio…"
      ]
     },
     "execution_count": 17,
     "metadata": {},
     "output_type": "execute_result"
    }
   ],
   "source": [
    "Map1"
   ]
  },
  {
   "cell_type": "code",
   "execution_count": null,
   "id": "492fc508",
   "metadata": {},
   "outputs": [],
   "source": []
  },
  {
   "cell_type": "code",
   "execution_count": null,
   "id": "5aeacd6c",
   "metadata": {},
   "outputs": [],
   "source": [
    "# works"
   ]
  },
  {
   "cell_type": "code",
   "execution_count": 22,
   "id": "fc4f187b",
   "metadata": {},
   "outputs": [],
   "source": [
    "Map2 = geemap.Map()"
   ]
  },
  {
   "cell_type": "code",
   "execution_count": 23,
   "id": "72c7b0fc",
   "metadata": {},
   "outputs": [],
   "source": [
    "countries1 = ee.FeatureCollection('USDOS/LSIB_SIMPLE/2017')\n",
    "kenya = countries1.filter(ee.Filter.eq('country_na','Kenya'))"
   ]
  },
  {
   "cell_type": "code",
   "execution_count": 24,
   "id": "ba9b20b5",
   "metadata": {},
   "outputs": [],
   "source": [
    "data1 = ee.ImageCollection(\"LANDSAT/LC08/C01/T1_TOA\").filterBounds(kenya)"
   ]
  },
  {
   "cell_type": "code",
   "execution_count": 25,
   "id": "ef151510",
   "metadata": {},
   "outputs": [],
   "source": [
    "rawImage = data1.filterDate(\"2016-01-01\",\"2016-12-31\")"
   ]
  },
  {
   "cell_type": "code",
   "execution_count": 26,
   "id": "ffd755b2",
   "metadata": {},
   "outputs": [],
   "source": [
    "visparams = {\"bands\":['B4','B3','B2'], \"max\":0.3}"
   ]
  },
  {
   "cell_type": "code",
   "execution_count": 27,
   "id": "00a23b96",
   "metadata": {},
   "outputs": [],
   "source": [
    "Map2.addLayer(rawImage, visparams, 'raw imagee')"
   ]
  },
  {
   "cell_type": "code",
   "execution_count": 28,
   "id": "83cd3ff2",
   "metadata": {},
   "outputs": [
    {
     "data": {
      "application/vnd.jupyter.widget-view+json": {
       "model_id": "65b3ea442738478e83de1b89e59fbacd",
       "version_major": 2,
       "version_minor": 0
      },
      "text/plain": [
       "Map(center=[20, 0], controls=(WidgetControl(options=['position', 'transparent_bg'], widget=HBox(children=(Togg…"
      ]
     },
     "execution_count": 28,
     "metadata": {},
     "output_type": "execute_result"
    }
   ],
   "source": [
    "Map2"
   ]
  },
  {
   "cell_type": "markdown",
   "id": "d8aa7a98",
   "metadata": {},
   "source": [
    "<!-- works -->"
   ]
  },
  {
   "cell_type": "code",
   "execution_count": 81,
   "id": "c5742766",
   "metadata": {},
   "outputs": [],
   "source": [
    "Map8 = geemap.Map()"
   ]
  },
  {
   "cell_type": "code",
   "execution_count": 70,
   "id": "9609f690",
   "metadata": {},
   "outputs": [],
   "source": [
    "countries2 = ee.FeatureCollection('USDOS/LSIB_SIMPLE/2017')\n",
    "kenya2 = countries2.filter(ee.Filter.eq('country_na','Kenya'))"
   ]
  },
  {
   "cell_type": "code",
   "execution_count": 71,
   "id": "2e868f7a",
   "metadata": {},
   "outputs": [],
   "source": [
    "data2 = ee.ImageCollection(\"COPERNICUS/S2_SR\").filterBounds(kenya2)\n",
    "# https://github.com/giswqs/geemap/discussions/288"
   ]
  },
  {
   "cell_type": "code",
   "execution_count": 72,
   "id": "b9b2dbc6",
   "metadata": {},
   "outputs": [],
   "source": [
    "rawImage2 = data2.filterDate(\"2022-08-01\",\"2022-10-29\")\n",
    "# raw_img = rawImage.sort(\"CLOUD_COVERAGE_ASSESSMENT\").first()\n",
    "# https://github.com/giswqs/geemap/discussions/288"
   ]
  },
  {
   "cell_type": "code",
   "execution_count": 73,
   "id": "c9104bdc",
   "metadata": {},
   "outputs": [],
   "source": [
    "# image1 = rawImage.median()"
   ]
  },
  {
   "cell_type": "code",
   "execution_count": 74,
   "id": "00cc95e5",
   "metadata": {},
   "outputs": [],
   "source": [
    "rawImage=ee.Image(data1.filterDate(\"2022-01-01\",\"2022-10-01\").sort(\"CLOUD_COVERAGE_ASSESSMENT\").first())\n",
    "# rawImage=data1.filterDate(\"2022-01-01\",\"2022-10-01\").sort(\"CLOUD_COVERAGE_ASSESSMENT\").first()"
   ]
  },
  {
   "cell_type": "code",
   "execution_count": 75,
   "id": "ac215060",
   "metadata": {},
   "outputs": [],
   "source": [
    "# me = rawImage.sort(\"CLOUD_COVERAGE_ASSESSMENT\").first()"
   ]
  },
  {
   "cell_type": "code",
   "execution_count": 76,
   "id": "6699abf6",
   "metadata": {},
   "outputs": [],
   "source": [
    "# Map2.addLayer(rawImage, visparams, 'raw imagee')"
   ]
  },
  {
   "cell_type": "code",
   "execution_count": 77,
   "id": "d8adcc0c",
   "metadata": {},
   "outputs": [],
   "source": [
    "# my_image = rawImage.select('B8', 'B4', 'B3', 'B2')\n",
    "visparams = {\"bands\":['B8','B4','B3','B2'], \"max\":0.3}"
   ]
  },
  {
   "cell_type": "code",
   "execution_count": 80,
   "id": "e3a16078",
   "metadata": {},
   "outputs": [],
   "source": [
    "# Map1.addLayer(rawImage)\n",
    "Map8.addLayer(rawImage, {'min': 1, 'max': 10}, 'Kenya raw imagee')"
   ]
  },
  {
   "cell_type": "code",
   "execution_count": 79,
   "id": "5f974a89",
   "metadata": {},
   "outputs": [
    {
     "data": {
      "application/vnd.jupyter.widget-view+json": {
       "model_id": "dc8531e8ed114a84adaa62d21114df41",
       "version_major": 2,
       "version_minor": 0
      },
      "text/plain": [
       "Map(center=[20, 0], controls=(WidgetControl(options=['position', 'transparent_bg'], widget=HBox(children=(Togg…"
      ]
     },
     "execution_count": 79,
     "metadata": {},
     "output_type": "execute_result"
    }
   ],
   "source": [
    "Map8"
   ]
  },
  {
   "cell_type": "code",
   "execution_count": null,
   "id": "edfa6c38",
   "metadata": {},
   "outputs": [],
   "source": []
  },
  {
   "cell_type": "code",
   "execution_count": null,
   "id": "7a90e904",
   "metadata": {},
   "outputs": [],
   "source": []
  },
  {
   "cell_type": "code",
   "execution_count": 224,
   "id": "4d07b298",
   "metadata": {},
   "outputs": [],
   "source": [
    "image=my_image.sort(\"CLOUD_COVERAGE_ASSESSMENT\").first()"
   ]
  },
  {
   "cell_type": "code",
   "execution_count": 227,
   "id": "d2401c57",
   "metadata": {},
   "outputs": [],
   "source": [
    "display={\n",
    "    \"min\":0,\n",
    "    \"max\":1,\n",
    "    \"palette\":['blue','yellow','green','darkgreen','black']\n",
    "}\n",
    "# ndvi=my_image.expression(\n",
    "#     \"(NIR-RED)/(NIR+RED)\",{\"NIR\":image.select(\"B8\"),\"RED\":image.select(\"B4\")}\n",
    "# )\n",
    "ndvi=ee.Image(rawImage).expression(\n",
    "    \"(NIR-RED)/(NIR+RED)\",{\"NIR\":ee.Image(rawImage).select(\"B8\"),\"RED\":ee.Image(rawImage).select(\"B4\")}\n",
    ")"
   ]
  },
  {
   "cell_type": "code",
   "execution_count": 228,
   "id": "73411fee",
   "metadata": {},
   "outputs": [
    {
     "ename": "EEException",
     "evalue": "Image.select, argument 'input': Invalid type.\nExpected type: Image<unknown bands>.\nActual type: ImageCollection.",
     "output_type": "error",
     "traceback": [
      "\u001b[0;31m---------------------------------------------------------------------------\u001b[0m",
      "\u001b[0;31mHttpError\u001b[0m                                 Traceback (most recent call last)",
      "File \u001b[0;32m~/Desktop/pandas/env/lib/python3.8/site-packages/ee/data.py:328\u001b[0m, in \u001b[0;36m_execute_cloud_call\u001b[0;34m(call, num_retries)\u001b[0m\n\u001b[1;32m    327\u001b[0m \u001b[38;5;28;01mtry\u001b[39;00m:\n\u001b[0;32m--> 328\u001b[0m   \u001b[38;5;28;01mreturn\u001b[39;00m \u001b[43mcall\u001b[49m\u001b[38;5;241;43m.\u001b[39;49m\u001b[43mexecute\u001b[49m\u001b[43m(\u001b[49m\u001b[43mnum_retries\u001b[49m\u001b[38;5;241;43m=\u001b[39;49m\u001b[43mnum_retries\u001b[49m\u001b[43m)\u001b[49m\n\u001b[1;32m    329\u001b[0m \u001b[38;5;28;01mexcept\u001b[39;00m googleapiclient\u001b[38;5;241m.\u001b[39merrors\u001b[38;5;241m.\u001b[39mHttpError \u001b[38;5;28;01mas\u001b[39;00m e:\n",
      "File \u001b[0;32m~/Desktop/pandas/env/lib/python3.8/site-packages/googleapiclient/_helpers.py:134\u001b[0m, in \u001b[0;36mpositional.<locals>.positional_decorator.<locals>.positional_wrapper\u001b[0;34m(*args, **kwargs)\u001b[0m\n\u001b[1;32m    133\u001b[0m         logger\u001b[38;5;241m.\u001b[39mwarning(message)\n\u001b[0;32m--> 134\u001b[0m \u001b[38;5;28;01mreturn\u001b[39;00m \u001b[43mwrapped\u001b[49m\u001b[43m(\u001b[49m\u001b[38;5;241;43m*\u001b[39;49m\u001b[43margs\u001b[49m\u001b[43m,\u001b[49m\u001b[43m \u001b[49m\u001b[38;5;241;43m*\u001b[39;49m\u001b[38;5;241;43m*\u001b[39;49m\u001b[43mkwargs\u001b[49m\u001b[43m)\u001b[49m\n",
      "File \u001b[0;32m~/Desktop/pandas/env/lib/python3.8/site-packages/googleapiclient/http.py:915\u001b[0m, in \u001b[0;36mHttpRequest.execute\u001b[0;34m(self, http, num_retries)\u001b[0m\n\u001b[1;32m    914\u001b[0m \u001b[38;5;28;01mif\u001b[39;00m resp\u001b[38;5;241m.\u001b[39mstatus \u001b[38;5;241m>\u001b[39m\u001b[38;5;241m=\u001b[39m \u001b[38;5;241m300\u001b[39m:\n\u001b[0;32m--> 915\u001b[0m     \u001b[38;5;28;01mraise\u001b[39;00m HttpError(resp, content, uri\u001b[38;5;241m=\u001b[39m\u001b[38;5;28mself\u001b[39m\u001b[38;5;241m.\u001b[39muri)\n\u001b[1;32m    916\u001b[0m \u001b[38;5;28;01mreturn\u001b[39;00m \u001b[38;5;28mself\u001b[39m\u001b[38;5;241m.\u001b[39mpostproc(resp, content)\n",
      "\u001b[0;31mHttpError\u001b[0m: <HttpError 400 when requesting https://earthengine.googleapis.com/v1alpha/projects/earthengine-legacy/maps?fields=name&alt=json returned \"Image.select, argument 'input': Invalid type.\nExpected type: Image<unknown bands>.\nActual type: ImageCollection.\". Details: \"Image.select, argument 'input': Invalid type.\nExpected type: Image<unknown bands>.\nActual type: ImageCollection.\">",
      "\nDuring handling of the above exception, another exception occurred:\n",
      "\u001b[0;31mEEException\u001b[0m                               Traceback (most recent call last)",
      "Cell \u001b[0;32mIn [228], line 1\u001b[0m\n\u001b[0;32m----> 1\u001b[0m \u001b[43mMap1\u001b[49m\u001b[38;5;241;43m.\u001b[39;49m\u001b[43maddLayer\u001b[49m\u001b[43m(\u001b[49m\u001b[43mndvi\u001b[49m\u001b[43m,\u001b[49m\u001b[43mdisplay\u001b[49m\u001b[43m,\u001b[49m\u001b[38;5;124;43m\"\u001b[39;49m\u001b[38;5;124;43mndvi\u001b[39;49m\u001b[38;5;124;43m\"\u001b[39;49m\u001b[43m)\u001b[49m\n\u001b[1;32m      2\u001b[0m Map1\n",
      "File \u001b[0;32m~/Desktop/pandas/env/lib/python3.8/site-packages/geemap/geemap.py:1489\u001b[0m, in \u001b[0;36mMap.add_ee_layer\u001b[0;34m(self, ee_object, vis_params, name, shown, opacity)\u001b[0m\n\u001b[1;32m   1484\u001b[0m     \u001b[38;5;28;01melif\u001b[39;00m \u001b[38;5;129;01mnot\u001b[39;00m \u001b[38;5;28misinstance\u001b[39m(vis_params[\u001b[38;5;124m\"\u001b[39m\u001b[38;5;124mpalette\u001b[39m\u001b[38;5;124m\"\u001b[39m], \u001b[38;5;28mlist\u001b[39m):\n\u001b[1;32m   1485\u001b[0m         \u001b[38;5;28;01mraise\u001b[39;00m \u001b[38;5;167;01mValueError\u001b[39;00m(\n\u001b[1;32m   1486\u001b[0m             \u001b[38;5;124m\"\u001b[39m\u001b[38;5;124mThe palette must be a list of colors or a string or a Box object.\u001b[39m\u001b[38;5;124m\"\u001b[39m\n\u001b[1;32m   1487\u001b[0m         )\n\u001b[0;32m-> 1489\u001b[0m map_id_dict \u001b[38;5;241m=\u001b[39m \u001b[43mee\u001b[49m\u001b[38;5;241;43m.\u001b[39;49m\u001b[43mImage\u001b[49m\u001b[43m(\u001b[49m\u001b[43mimage\u001b[49m\u001b[43m)\u001b[49m\u001b[38;5;241;43m.\u001b[39;49m\u001b[43mgetMapId\u001b[49m\u001b[43m(\u001b[49m\u001b[43mvis_params\u001b[49m\u001b[43m)\u001b[49m\n\u001b[1;32m   1490\u001b[0m tile_layer \u001b[38;5;241m=\u001b[39m ipyleaflet\u001b[38;5;241m.\u001b[39mTileLayer(\n\u001b[1;32m   1491\u001b[0m     url\u001b[38;5;241m=\u001b[39mmap_id_dict[\u001b[38;5;124m\"\u001b[39m\u001b[38;5;124mtile_fetcher\u001b[39m\u001b[38;5;124m\"\u001b[39m]\u001b[38;5;241m.\u001b[39murl_format,\n\u001b[1;32m   1492\u001b[0m     attribution\u001b[38;5;241m=\u001b[39m\u001b[38;5;124m\"\u001b[39m\u001b[38;5;124mGoogle Earth Engine\u001b[39m\u001b[38;5;124m\"\u001b[39m,\n\u001b[0;32m   (...)\u001b[0m\n\u001b[1;32m   1496\u001b[0m     max_zoom\u001b[38;5;241m=\u001b[39m\u001b[38;5;241m24\u001b[39m,\n\u001b[1;32m   1497\u001b[0m )\n\u001b[1;32m   1499\u001b[0m layer \u001b[38;5;241m=\u001b[39m \u001b[38;5;28mself\u001b[39m\u001b[38;5;241m.\u001b[39mfind_layer(name\u001b[38;5;241m=\u001b[39mname)\n",
      "File \u001b[0;32m~/Desktop/pandas/env/lib/python3.8/site-packages/ee/image.py:132\u001b[0m, in \u001b[0;36mImage.getMapId\u001b[0;34m(self, vis_params)\u001b[0m\n\u001b[1;32m    130\u001b[0m vis_image, request \u001b[38;5;241m=\u001b[39m \u001b[38;5;28mself\u001b[39m\u001b[38;5;241m.\u001b[39m_apply_visualization(vis_params)\n\u001b[1;32m    131\u001b[0m request[\u001b[38;5;124m'\u001b[39m\u001b[38;5;124mimage\u001b[39m\u001b[38;5;124m'\u001b[39m] \u001b[38;5;241m=\u001b[39m vis_image\n\u001b[0;32m--> 132\u001b[0m response \u001b[38;5;241m=\u001b[39m \u001b[43mdata\u001b[49m\u001b[38;5;241;43m.\u001b[39;49m\u001b[43mgetMapId\u001b[49m\u001b[43m(\u001b[49m\u001b[43mrequest\u001b[49m\u001b[43m)\u001b[49m\n\u001b[1;32m    133\u001b[0m response[\u001b[38;5;124m'\u001b[39m\u001b[38;5;124mimage\u001b[39m\u001b[38;5;124m'\u001b[39m] \u001b[38;5;241m=\u001b[39m \u001b[38;5;28mself\u001b[39m\n\u001b[1;32m    134\u001b[0m \u001b[38;5;28;01mreturn\u001b[39;00m response\n",
      "File \u001b[0;32m~/Desktop/pandas/env/lib/python3.8/site-packages/ee/data.py:586\u001b[0m, in \u001b[0;36mgetMapId\u001b[0;34m(params)\u001b[0m\n\u001b[1;32m    583\u001b[0m   request[\u001b[38;5;124m'\u001b[39m\u001b[38;5;124mvisualizationOptions\u001b[39m\u001b[38;5;124m'\u001b[39m] \u001b[38;5;241m=\u001b[39m visualizationOptions\n\u001b[1;32m    584\u001b[0m \u001b[38;5;66;03m# Make it return only the name field, as otherwise it echoes the entire\u001b[39;00m\n\u001b[1;32m    585\u001b[0m \u001b[38;5;66;03m# request, which might be large.\u001b[39;00m\n\u001b[0;32m--> 586\u001b[0m result \u001b[38;5;241m=\u001b[39m \u001b[43m_execute_cloud_call\u001b[49m\u001b[43m(\u001b[49m\n\u001b[1;32m    587\u001b[0m \u001b[43m    \u001b[49m\u001b[43m_get_cloud_api_resource\u001b[49m\u001b[43m(\u001b[49m\u001b[43m)\u001b[49m\u001b[38;5;241;43m.\u001b[39;49m\u001b[43mprojects\u001b[49m\u001b[43m(\u001b[49m\u001b[43m)\u001b[49m\u001b[38;5;241;43m.\u001b[39;49m\u001b[43mmaps\u001b[49m\u001b[43m(\u001b[49m\u001b[43m)\u001b[49m\u001b[38;5;241;43m.\u001b[39;49m\u001b[43mcreate\u001b[49m\u001b[43m(\u001b[49m\n\u001b[1;32m    588\u001b[0m \u001b[43m        \u001b[49m\u001b[43mparent\u001b[49m\u001b[38;5;241;43m=\u001b[39;49m\u001b[43m_get_projects_path\u001b[49m\u001b[43m(\u001b[49m\u001b[43m)\u001b[49m\u001b[43m,\u001b[49m\u001b[43m \u001b[49m\u001b[43mfields\u001b[49m\u001b[38;5;241;43m=\u001b[39;49m\u001b[38;5;124;43m'\u001b[39;49m\u001b[38;5;124;43mname\u001b[39;49m\u001b[38;5;124;43m'\u001b[39;49m\u001b[43m,\u001b[49m\u001b[43m \u001b[49m\u001b[43mbody\u001b[49m\u001b[38;5;241;43m=\u001b[39;49m\u001b[43mrequest\u001b[49m\u001b[43m)\u001b[49m\u001b[43m)\u001b[49m\n\u001b[1;32m    589\u001b[0m map_name \u001b[38;5;241m=\u001b[39m result[\u001b[38;5;124m'\u001b[39m\u001b[38;5;124mname\u001b[39m\u001b[38;5;124m'\u001b[39m]\n\u001b[1;32m    590\u001b[0m url_format \u001b[38;5;241m=\u001b[39m \u001b[38;5;124m'\u001b[39m\u001b[38;5;132;01m%s\u001b[39;00m\u001b[38;5;124m/\u001b[39m\u001b[38;5;132;01m%s\u001b[39;00m\u001b[38;5;124m/\u001b[39m\u001b[38;5;132;01m%s\u001b[39;00m\u001b[38;5;124m/tiles/\u001b[39m\u001b[38;5;132;01m{z}\u001b[39;00m\u001b[38;5;124m/\u001b[39m\u001b[38;5;132;01m{x}\u001b[39;00m\u001b[38;5;124m/\u001b[39m\u001b[38;5;132;01m{y}\u001b[39;00m\u001b[38;5;124m'\u001b[39m \u001b[38;5;241m%\u001b[39m (\n\u001b[1;32m    591\u001b[0m     _tile_base_url, _cloud_api_utils\u001b[38;5;241m.\u001b[39mVERSION, map_name)\n",
      "File \u001b[0;32m~/Desktop/pandas/env/lib/python3.8/site-packages/ee/data.py:330\u001b[0m, in \u001b[0;36m_execute_cloud_call\u001b[0;34m(call, num_retries)\u001b[0m\n\u001b[1;32m    328\u001b[0m   \u001b[38;5;28;01mreturn\u001b[39;00m call\u001b[38;5;241m.\u001b[39mexecute(num_retries\u001b[38;5;241m=\u001b[39mnum_retries)\n\u001b[1;32m    329\u001b[0m \u001b[38;5;28;01mexcept\u001b[39;00m googleapiclient\u001b[38;5;241m.\u001b[39merrors\u001b[38;5;241m.\u001b[39mHttpError \u001b[38;5;28;01mas\u001b[39;00m e:\n\u001b[0;32m--> 330\u001b[0m   \u001b[38;5;28;01mraise\u001b[39;00m _translate_cloud_exception(e)\n",
      "\u001b[0;31mEEException\u001b[0m: Image.select, argument 'input': Invalid type.\nExpected type: Image<unknown bands>.\nActual type: ImageCollection."
     ]
    }
   ],
   "source": [
    "Map1.addLayer(ndvi,display,\"ndvi\")\n",
    "Map1"
   ]
  },
  {
   "cell_type": "code",
   "execution_count": null,
   "id": "67b7347c",
   "metadata": {},
   "outputs": [],
   "source": []
  },
  {
   "cell_type": "code",
   "execution_count": null,
   "id": "d2a01084",
   "metadata": {},
   "outputs": [],
   "source": []
  }
 ],
 "metadata": {
  "kernelspec": {
   "display_name": "Python 3 (ipykernel)",
   "language": "python",
   "name": "python3"
  },
  "language_info": {
   "codemirror_mode": {
    "name": "ipython",
    "version": 3
   },
   "file_extension": ".py",
   "mimetype": "text/x-python",
   "name": "python",
   "nbconvert_exporter": "python",
   "pygments_lexer": "ipython3",
   "version": "3.8.15"
  }
 },
 "nbformat": 4,
 "nbformat_minor": 5
}
